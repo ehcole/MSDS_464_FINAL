{
 "cells": [
  {
   "cell_type": "code",
   "execution_count": 1,
   "id": "1803163f",
   "metadata": {},
   "outputs": [],
   "source": [
    "import sys\n",
    "sys.path.append('../')\n",
    "\n",
    "from src.chess_env import ChessEnvV1\n",
    "from src.agent import RandomAgent, StockfishAgent\n",
    "from src.elo_evaluator import EloEvaluator"
   ]
  },
  {
   "cell_type": "code",
   "execution_count": 2,
   "id": "7a8cafde",
   "metadata": {},
   "outputs": [],
   "source": [
    "# create an agent that should have an ELO score of 2000\n",
    "stockfish_2000 = StockfishAgent(name='Stockfish', stockfish_path='stockfish', elo=2000)"
   ]
  },
  {
   "cell_type": "code",
   "execution_count": 3,
   "id": "7e1c7ed0",
   "metadata": {},
   "outputs": [],
   "source": [
    "evaluator = EloEvaluator(stockfish_2000, n=20)"
   ]
  },
  {
   "cell_type": "code",
   "execution_count": 4,
   "id": "09d56ebf",
   "metadata": {},
   "outputs": [
    {
     "name": "stdout",
     "output_type": "stream",
     "text": [
      "playing game number 1 against opponent with ELO score of 1500\n",
      "won game!\n",
      "current ELO estimate: 1900\n",
      "playing game number 2 against opponent with ELO score of 1900\n",
      "won game!\n",
      "current ELO estimate: 2100\n",
      "playing game number 3 against opponent with ELO score of 2100\n",
      "won game!\n",
      "current ELO estimate: 2233\n",
      "playing game number 4 against opponent with ELO score of 2233\n",
      "lost game :(\n",
      "current ELO estimate: 2133\n",
      "playing game number 5 against opponent with ELO score of 2133\n",
      "lost game :(\n",
      "current ELO estimate: 2053\n",
      "playing game number 6 against opponent with ELO score of 2053\n",
      "won game!\n",
      "current ELO estimate: 2119\n",
      "playing game number 7 against opponent with ELO score of 2119\n",
      "draw  ¯\\_(ツ)_/¯\n",
      "current ELO estimate: 2119\n",
      "playing game number 8 against opponent with ELO score of 2119\n",
      "lost game :(\n",
      "current ELO estimate: 2069\n",
      "playing game number 9 against opponent with ELO score of 2069\n",
      "lost game :(\n",
      "current ELO estimate: 2025\n",
      "playing game number 10 against opponent with ELO score of 2025\n",
      "won game!\n",
      "current ELO estimate: 2065\n",
      "playing game number 11 against opponent with ELO score of 2065\n",
      "lost game :(\n",
      "current ELO estimate: 2028\n",
      "playing game number 12 against opponent with ELO score of 2028\n",
      "lost game :(\n",
      "current ELO estimate: 1995\n",
      "playing game number 13 against opponent with ELO score of 1995\n",
      "won game!\n",
      "current ELO estimate: 2026\n",
      "playing game number 14 against opponent with ELO score of 2026\n",
      "won game!\n",
      "current ELO estimate: 2054\n",
      "playing game number 15 against opponent with ELO score of 2054\n",
      "lost game :(\n",
      "current ELO estimate: 2027\n",
      "playing game number 16 against opponent with ELO score of 2027\n",
      "draw  ¯\\_(ツ)_/¯\n",
      "current ELO estimate: 2027\n",
      "playing game number 17 against opponent with ELO score of 2027\n",
      "draw  ¯\\_(ツ)_/¯\n",
      "current ELO estimate: 2027\n",
      "playing game number 18 against opponent with ELO score of 2027\n",
      "lost game :(\n",
      "current ELO estimate: 2005\n",
      "playing game number 19 against opponent with ELO score of 2005\n",
      "lost game :(\n",
      "current ELO estimate: 1984\n",
      "playing game number 20 against opponent with ELO score of 1984\n",
      "won game!\n",
      "current ELO estimate: 2004\n"
     ]
    }
   ],
   "source": [
    "elo, info = evaluator.eval()"
   ]
  },
  {
   "cell_type": "code",
   "execution_count": 5,
   "id": "ee4abe0d",
   "metadata": {},
   "outputs": [
    {
     "data": {
      "text/plain": [
       "2004"
      ]
     },
     "execution_count": 5,
     "metadata": {},
     "output_type": "execute_result"
    }
   ],
   "source": [
    "elo"
   ]
  },
  {
   "cell_type": "code",
   "execution_count": 6,
   "id": "d333122d",
   "metadata": {},
   "outputs": [
    {
     "data": {
      "text/plain": [
       "{'wins': 8, 'losses': 9, 'games_played': 20}"
      ]
     },
     "execution_count": 6,
     "metadata": {},
     "output_type": "execute_result"
    }
   ],
   "source": [
    "info"
   ]
  },
  {
   "cell_type": "code",
   "execution_count": 7,
   "id": "75cb1d83",
   "metadata": {},
   "outputs": [],
   "source": [
    "# create an agent that should have an ELO score of 1500\n",
    "stockfish_1500 = StockfishAgent(name='Stockfish', stockfish_path='stockfish', elo=1500)"
   ]
  },
  {
   "cell_type": "code",
   "execution_count": 8,
   "id": "86a44f7b",
   "metadata": {},
   "outputs": [],
   "source": [
    "evaluator = EloEvaluator(stockfish_1500, n=20)"
   ]
  },
  {
   "cell_type": "code",
   "execution_count": 9,
   "id": "154d45f2",
   "metadata": {},
   "outputs": [
    {
     "name": "stdout",
     "output_type": "stream",
     "text": [
      "playing game number 1 against opponent with ELO score of 1500\n",
      "won game!\n",
      "current ELO estimate: 1900\n",
      "playing game number 2 against opponent with ELO score of 1900\n",
      "lost game :(\n",
      "current ELO estimate: 1700\n",
      "playing game number 3 against opponent with ELO score of 1700\n",
      "draw  ¯\\_(ツ)_/¯\n",
      "current ELO estimate: 1700\n",
      "playing game number 4 against opponent with ELO score of 1700\n",
      "lost game :(\n",
      "current ELO estimate: 1600\n",
      "playing game number 5 against opponent with ELO score of 1600\n",
      "lost game :(\n",
      "current ELO estimate: 1520\n",
      "playing game number 6 against opponent with ELO score of 1520\n",
      "lost game :(\n",
      "current ELO estimate: 1453\n",
      "playing game number 7 against opponent with ELO score of 1453\n",
      "won game!\n",
      "current ELO estimate: 1510\n",
      "playing game number 8 against opponent with ELO score of 1510\n",
      "won game!\n",
      "current ELO estimate: 1560\n",
      "playing game number 9 against opponent with ELO score of 1560\n",
      "won game!\n",
      "current ELO estimate: 1604\n",
      "playing game number 10 against opponent with ELO score of 1604\n",
      "lost game :(\n",
      "current ELO estimate: 1564\n",
      "playing game number 11 against opponent with ELO score of 1564\n",
      "lost game :(\n",
      "current ELO estimate: 1528\n",
      "playing game number 12 against opponent with ELO score of 1528\n",
      "lost game :(\n",
      "current ELO estimate: 1494\n",
      "playing game number 13 against opponent with ELO score of 1494\n",
      "won game!\n",
      "current ELO estimate: 1525\n",
      "playing game number 14 against opponent with ELO score of 1525\n",
      "won game!\n",
      "current ELO estimate: 1554\n",
      "playing game number 15 against opponent with ELO score of 1554\n",
      "lost game :(\n",
      "current ELO estimate: 1527\n",
      "playing game number 16 against opponent with ELO score of 1527\n",
      "lost game :(\n",
      "current ELO estimate: 1502\n",
      "playing game number 17 against opponent with ELO score of 1502\n",
      "lost game :(\n",
      "current ELO estimate: 1478\n",
      "playing game number 18 against opponent with ELO score of 1478\n",
      "lost game :(\n",
      "current ELO estimate: 1456\n",
      "playing game number 19 against opponent with ELO score of 1456\n",
      "won game!\n",
      "current ELO estimate: 1477\n",
      "playing game number 20 against opponent with ELO score of 1477\n",
      "lost game :(\n",
      "current ELO estimate: 1457\n"
     ]
    }
   ],
   "source": [
    "elo, info = evaluator.eval()"
   ]
  },
  {
   "cell_type": "code",
   "execution_count": 10,
   "id": "c4eafe8a",
   "metadata": {},
   "outputs": [
    {
     "data": {
      "text/plain": [
       "1457"
      ]
     },
     "execution_count": 10,
     "metadata": {},
     "output_type": "execute_result"
    }
   ],
   "source": [
    "elo"
   ]
  },
  {
   "cell_type": "code",
   "execution_count": 11,
   "id": "e3735872",
   "metadata": {},
   "outputs": [
    {
     "data": {
      "text/plain": [
       "{'wins': 7, 'losses': 12, 'games_played': 20}"
      ]
     },
     "execution_count": 11,
     "metadata": {},
     "output_type": "execute_result"
    }
   ],
   "source": [
    "info"
   ]
  }
 ],
 "metadata": {
  "kernelspec": {
   "display_name": "Python 3 (ipykernel)",
   "language": "python",
   "name": "python3"
  },
  "language_info": {
   "codemirror_mode": {
    "name": "ipython",
    "version": 3
   },
   "file_extension": ".py",
   "mimetype": "text/x-python",
   "name": "python",
   "nbconvert_exporter": "python",
   "pygments_lexer": "ipython3",
   "version": "3.9.2"
  }
 },
 "nbformat": 4,
 "nbformat_minor": 5
}
